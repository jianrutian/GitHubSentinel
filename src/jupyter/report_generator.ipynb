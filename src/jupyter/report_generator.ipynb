{
 "cells": [
  {
   "cell_type": "markdown",
   "id": "690b8105-a04e-4f9a-801a-767d5db93f90",
   "metadata": {},
   "source": [
    "# 进展报告自动生成\n",
    "\n",
    "基于项目文件（GitHubClient）调用大模型（LLM）自动生成项目进展报告。\n",
    "\n",
    "### 调用 OpenAI GPT 大模型\n",
    "\n",
    "相比 GitHub REST API ，OpenAI 提供的大模型相关 API 迭代速度快，且不够稳定。\n",
    "\n",
    "**GPT-4 很难能够准确的生成 OpenAI Client 相关代码**。\n",
    "\n",
    "因此，GitHubSentinel 项目中 LLM 相关调用代码由人类编写😁。\n"
   ]
  },
  {
   "cell_type": "markdown",
   "id": "de8f9beb-4de1-4ead-ad2d-4cc1b8692390",
   "metadata": {},
   "source": [
    "## Prompt 优化测试\n",
    "\n",
    "基于 `GithubClient` 模块获取的 Repo 最新进展，先在 ChatGPT 中尝试获取可用的提示词（Prompt）方案。\n",
    "\n",
    "-  **完整的ChatGPT 对话记录【GitHubSentinel 提示词优化】**：https://chatgpt.com/share/28524ea6-2bf3-4ebe-b7d9-9c1ba5f005d2\n",
    "- 以下测试使用的 LangChain 项目文件为: `./daily_progress/langchain-ai_langchain/2024-08-18.md'`\n",
    "\n",
    "\n",
    "### ChatGPT（GPT-4） 生成报告\n",
    "\n",
    "**Langchain-AI/Langchain Daily Progress Report - 2024-08-18**\n",
    "\n",
    "### 新增功能\n",
    "1. **Langchain 模块添加**\n",
    "   - 新增了Langchain Box套件及其文档加载器 (`langchain-box: add langchain box package and DocumentLoader` #25506)\n",
    "   - 加入了新的社区提供者—Agentic RAG 示例 (`Community: Add Union provider - Agentic RAG example` #25509)\n",
    "   - 引入了更多的异步测试标准 (`standard-tests[patch]: async variations of all tests` #25501)\n",
    "   - 引入了对多种区块链的支持 (`community: add supported blockchains to Blockchain Document Loader` #25428)\n",
    "   \n",
    "2. **文档与API更新**\n",
    "   - 更新了多个集成参考文档和Langchain版本的文档 (`docs: `integrations` reference update 9` #25511, `docs 0.3 release` #25459)\n",
    "   - 增加了新的文档索引和数据加载方式的说明 (`[docs]: more indexing of document loaders` #25500)\n",
    "\n",
    "### 主要改进\n",
    "1. **测试与标准化**\n",
    "   - 添加了更多嵌入标准测试 (`more embeddings standard tests` #25513)\n",
    "   - 引入了JSON模式的标准测试 (`json mode standard test` #25497)\n",
    "   - 新增了各种文档加载器的文档 (`[Doc] Add docs for `ZhipuAIEmbeddings`` #25467)\n",
    "\n",
    "2. **框架和规则改进**\n",
    "   - 对Langchain核心模块进行了Pydantic解析器修复 (`langchain-core: added pydantic parser fix for issue #24995` #25516)\n",
    "   - 增加了B(bugbear) ruff规则以提高代码质量 (`core: Add B(bugbear) ruff rules` #25520)\n",
    "\n",
    "3. **集成与兼容性**\n",
    "   - 测试了Pydantic 2和Langchain 0.3的兼容性 (`openai[major] -- test with pydantic 2 and langchain 0.3` #25503)\n",
    "   - 准备了向Pydantic 2迁移的根验证器升级 (`openai[patch]: Upgrade @root_validators in preparation for pydantic 2 migration` #25491)\n",
    "\n",
    "### 修复问题\n",
    "1. **错误修复**\n",
    "   - 修正了文档中的错别字和错误消息 (`docs: Fix typo in openai llm integration notebook` #25492, `docs: fix Agent deprecation msg` #25464)\n",
    "   - 解决了不同的搜索模式（向量与文本）产生不同结果的问题 (`Chroma search with vector and search with text get different result using the same embedding function` #25517)\n",
    "   - 修复了使用AzureSearch vectorstore时的文档ID作为键的问题 (`community : [bugfix] Use document ids as keys in AzureSearch vectorstore` #25486)\n",
    "\n",
    "2. **系统错误与异常处理**\n",
    "   - 解决了在调用特定链时缺少输入键的错误 (`Raises ValueError: Missing some input keys: {'query'} everytime I invoke 'GraphCypherQAChain.from_llm' chain with query present as input keys` #25476)\n",
    "   - 修正了未知类型 'ToolMessage' 的类型错误 (`TypeError: Got unknown type 'ToolMessage'.` #25490)\n",
    "\n",
    "---\n",
    "\n",
    "此简报详细总结了Langchain AI项目在2024年8月18日的最新进展，包括新增功能、主要改进和问题修复，确保团队成员了解最新的项目状态和即将到来的更新。\n"
   ]
  },
  {
   "cell_type": "markdown",
   "id": "554b5949-5982-4034-bce2-b186dedbd445",
   "metadata": {},
   "source": [
    "## 前置依赖 logger 模块"
   ]
  },
  {
   "cell_type": "code",
   "execution_count": 21,
   "id": "f45cc627-7005-4943-92cc-212f7c98f556",
   "metadata": {},
   "outputs": [],
   "source": [
    "# src/logger.py\n",
    "from loguru import logger\n",
    "import sys\n",
    "\n",
    "# Configure Loguru\n",
    "logger.remove()  # Remove the default logger\n",
    "logger.add(sys.stdout, level=\"DEBUG\", format=\"{time} {level} {message}\", colorize=True)\n",
    "logger.add(\"logs/app.log\", rotation=\"1 MB\", level=\"DEBUG\")\n",
    "\n",
    "# Alias the logger for easier import\n",
    "LOG = logger\n",
    "\n",
    "# Make the logger available for import with the alias\n",
    "__all__ = [\"LOG\"]"
   ]
  },
  {
   "cell_type": "markdown",
   "id": "cb11497f-35fa-4024-bff2-24d4b0b3666c",
   "metadata": {},
   "source": [
    "## LLM Class "
   ]
  },
  {
   "cell_type": "code",
   "execution_count": 37,
   "id": "cb4c8e66-41c5-4c60-9345-959f5bf935e2",
   "metadata": {},
   "outputs": [],
   "source": [
    "import os\n",
    "from openai import OpenAI  # 导入OpenAI库用于访问GPT模型\n",
    "# from logger import LOG  # 导入日志模块（演示时直接导入）\n",
    "\n",
    "class LLM:\n",
    "    def __init__(self, model=\"gpt-3.5-turbo\", api_key=os.getenv(\"OPENAI_API_KEY\"), base_url=os.getenv(\"OPENAI_API_BASE\")):\n",
    "        # 创建一个OpenAI客户端实例\n",
    "        self.client = OpenAI(api_key=api_key, base_url=base_url)\n",
    "        # 确定使用的模型版本\n",
    "        self.model = model\n",
    "        # 配置日志文件，当文件大小达到1MB时自动轮转，日志级别为DEBUG\n",
    "        LOG.add(\"daily_progress/llm_logs.log\", rotation=\"1 MB\", level=\"DEBUG\")\n",
    "\n",
    "    def generate_daily_report(self, markdown_content, dry_run=False):\n",
    "        # 构建一个用于生成报告的提示文本，要求生成的报告包含新增功能、主要改进和问题修复\n",
    "        prompt = f\"以下是项目的最新进展，请根据功能合并同类项，形成一份简报，:\\n\\n{markdown_content}\"\n",
    "        system = \"你是一名专业的GitHub项目管理助手，专门帮助用户对GitHub上开源项目的Issue,commit或Pull Request根据功能进行分类和摘要形成一份简报。至少包含：1）新增功能；2）主要改进；3）修复问题。请使用中文\"\n",
    "        \n",
    "        if dry_run:\n",
    "            # 如果启用了dry_run模式，将不会调用模型，而是将提示信息保存到文件中\n",
    "            LOG.info(\"Dry run mode enabled. Saving prompt to file.\")\n",
    "            with open(\"daily_progress/prompt.txt\", \"w+\") as f:\n",
    "                f.write(prompt)\n",
    "            LOG.debug(\"Prompt saved to daily_progress/prompt.txt\")\n",
    "            return \"DRY RUN\"\n",
    "\n",
    "        # 日志记录开始生成报告\n",
    "        LOG.info(f\"Starting report generation using model: {self.model}.\")\n",
    "        \n",
    "        try:\n",
    "            # 调用OpenAI GPT模型生成报告\n",
    "            response = self.client.chat.completions.create(\n",
    "                model=self.model,  # 指定使用的模型版本\n",
    "                messages=[\n",
    "                    {\"role\": \"system\", \"content\": system},\n",
    "                    {\"role\": \"user\", \"content\": prompt}  # 提交用户角色的消息\n",
    "                ]\n",
    "            )\n",
    "            LOG.debug(f\"{self.model} response: {response}\")\n",
    "            # 返回模型生成的内容\n",
    "            return response.choices[0].message.content\n",
    "        except Exception as e:\n",
    "            # 如果在请求过程中出现异常，记录错误并抛出\n",
    "            LOG.error(\"An error occurred while generating the report: {}\", e)\n",
    "            raise\n"
   ]
  },
  {
   "cell_type": "markdown",
   "id": "759d2f6d-d2a5-4524-be4f-7e94c53f07e7",
   "metadata": {},
   "source": [
    "## ReportGenerator Class"
   ]
  },
  {
   "cell_type": "code",
   "execution_count": 42,
   "id": "652363c5-b211-48a9-93ae-54268e7ee13d",
   "metadata": {},
   "outputs": [],
   "source": [
    "# src/report_generator.py\n",
    "\n",
    "import os\n",
    "from datetime import date, timedelta\n",
    "# from logger import LOG  # 导入日志模块，用于记录日志信息\n",
    "\n",
    "class ReportGenerator:\n",
    "    def __init__(self, llm):\n",
    "        self.llm = llm  # 初始化时接受一个LLM实例，用于后续生成报告\n",
    "\n",
    "    def export_daily_progress(self, repo, updates):\n",
    "        # 构建仓库的日志文件目录\n",
    "        repo_dir = os.path.join('daily_progress', repo.replace(\"/\", \"_\"))\n",
    "        os.makedirs(repo_dir, exist_ok=True)  # 如果目录不存在则创建\n",
    "        \n",
    "        # 创建并写入日常进展的Markdown文件\n",
    "        file_path = os.path.join(repo_dir, f'{date.today()}.md')\n",
    "        with open(file_path, 'w') as file:\n",
    "            file.write(f\"# Daily Progress for {repo} ({date.today()})\\n\\n\")\n",
    "            file.write(\"\\n## Issues\\n\")\n",
    "            for issue in updates['issues']:\n",
    "                file.write(f\"- {issue['title']} #{issue['number']}\\n\")\n",
    "            file.write(\"\\n## Pull Requests\\n\")\n",
    "            for pr in updates['pull_requests']:\n",
    "                file.write(f\"- {pr['title']} #{pr['number']}\\n\")\n",
    "        return file_path\n",
    "\n",
    "    def export_progress_by_date_range(self, repo, updates, days):\n",
    "        # 构建目录并写入特定日期范围的进展Markdown文件\n",
    "        repo_dir = os.path.join('daily_progress', repo.replace(\"/\", \"_\"))\n",
    "        os.makedirs(repo_dir, exist_ok=True)\n",
    "\n",
    "        today = date.today()\n",
    "        since = today - timedelta(days=days)  # 计算起始日期\n",
    "        \n",
    "        date_str = f\"{since}_to_{today}\"  # 格式化日期范围字符串\n",
    "        file_path = os.path.join(repo_dir, f'{date_str}.md')\n",
    "        \n",
    "        with open(file_path, 'w') as file:\n",
    "            file.write(f\"# Progress for {repo} ({since} to {today})\\n\\n\")\n",
    "            file.write(\"\\n## Issues Closed in the Last {days} Days\\n\")\n",
    "            for issue in updates['issues']:\n",
    "                file.write(f\"- {issue['title']} #{issue['number']}\\n\")\n",
    "            file.write(\"\\n## Pull Requests Merged in the Last {days} Days\\n\")\n",
    "            for pr in updates['pull_requests']:\n",
    "                file.write(f\"- {pr['title']} #{pr['number']}\\n\")\n",
    "        \n",
    "        LOG.info(f\"Exported time-range progress to {file_path}\")  # 记录导出日志\n",
    "        return file_path\n",
    "\n",
    "    def generate_daily_report(self, markdown_file_path):\n",
    "        # 读取Markdown文件并使用LLM生成日报\n",
    "        with open(markdown_file_path, 'r') as file:\n",
    "            markdown_content = file.read()\n",
    "\n",
    "        report = self.llm.generate_daily_report(markdown_content)  # 调用LLM生成报告\n",
    "\n",
    "        report_file_path = os.path.splitext(markdown_file_path)[0] + \"_report.md\"\n",
    "        with open(report_file_path, 'w+', encoding='utf-8') as report_file:\n",
    "            report_file.write(report)  # 写入生成的报告\n",
    "\n",
    "        LOG.info(f\"Generated report saved to {report_file_path}\")  # 记录生成报告日志\n",
    "\n",
    "    def generate_report_by_date_range(self, markdown_file_path, days):\n",
    "        # 生成特定日期范围的报告，流程与日报生成类似\n",
    "        with open(markdown_file_path, 'r') as file:\n",
    "            markdown_content = file.read()\n",
    "\n",
    "        report = self.llm.generate_daily_report(markdown_content)\n",
    "\n",
    "        report_file_path = os.path.splitext(markdown_file_path)[0] + f\"_report.md\"\n",
    "        with open(report_file_path, 'w+', encoding='utf-8') as report_file:\n",
    "            report_file.write(report)\n",
    "\n",
    "        LOG.info(f\"Generated report saved to {report_file_path}\")  # 记录生成报告日志\n"
   ]
  },
  {
   "cell_type": "markdown",
   "id": "e08d32e6-93d4-4593-a54a-51b8dffbc0e2",
   "metadata": {},
   "source": [
    "## 调用 GPT-3.5-Turbo API 生成报告"
   ]
  },
  {
   "cell_type": "code",
   "execution_count": 43,
   "id": "577d50a5-daf4-4d7d-adf4-6932af517037",
   "metadata": {},
   "outputs": [],
   "source": [
    "# 实例化 LLM，并使用默认的 GPT-3.5-Turbo 模型\n",
    "llm = LLM()"
   ]
  },
  {
   "cell_type": "code",
   "execution_count": 44,
   "id": "06114d2e-8a32-48f9-bcb8-4bb8e5460f3e",
   "metadata": {},
   "outputs": [],
   "source": [
    "# 实例化 ReportGenerator\n",
    "report_generator = ReportGenerator(llm)"
   ]
  },
  {
   "cell_type": "code",
   "execution_count": 45,
   "id": "fdb2b520-6a2f-4898-94cc-55e85d58fc3c",
   "metadata": {},
   "outputs": [
    {
     "name": "stdout",
     "output_type": "stream",
     "text": [
      "2024-08-21T00:05:59.790736+0800 INFO Starting report generation using model: gpt-3.5-turbo.\n",
      "2024-08-21T00:06:17.025767+0800 DEBUG gpt-3.5-turbo response: ChatCompletion(id='chatcmpl-9yLf07sKKNc7NGZN9CKr2BFX2f2JK', choices=[Choice(finish_reason='stop', index=0, logprobs=None, message=ChatCompletionMessage(content='## 新增功能:\\n1. 为丢失的GraphVectorStore扩展添加beta修饰符 #25562\\n2. 向标准测试中指定`tool_choice` #25548\\n3. 为`SingleFileFacebookMessengerChatLoader`的API文档添加改进 #25536\\n4. 添加嵌入集成测试 #25508\\n5. 为langchain-box添加langchain盒子包和DocumentLoader #25465\\n6. 更新了`DocumentLoader` #25458\\n\\n## 主要改进:\\n1. 更新了模型用于llama测试 #25542\\n2. 改进了文档中的QianfanLLMEndpoint和Tongyi输入文本 #25529\\n3. 更新了基本URL #25524\\n4. 修复了在create_stuff_documents_chain中使用`document_variable_name`无法覆盖上下文的问题 #25531\\n\\n## 修复问题:\\n1. 修复UnionType类型变量替换问题 #25544\\n2. 修复Databricks Vector Search演示笔记本问题 #25504\\n3. 修复了在Azure中的json模式问题 #25488', role='assistant', function_call=None, tool_calls=None, refusal=None))], created=1724169970, model='gpt-3.5-turbo-0125', object='chat.completion', system_fingerprint=None, usage=CompletionUsage(completion_tokens=276, prompt_tokens=627, total_tokens=903))\n",
      "2024-08-21T00:06:17.027769+0800 INFO Generated report saved to daily_progress/langchain-ai_langchain/2024-08-20_report.md\n"
     ]
    }
   ],
   "source": [
    "# 生成 LangChain 项目最近一日报告\n",
    "report_generator.generate_daily_report(\n",
    "    markdown_file_path=\"daily_progress/langchain-ai_langchain/2024-08-20.md\")"
   ]
  },
  {
   "cell_type": "code",
   "execution_count": 54,
   "id": "18a95ac4-22be-4f8d-b755-3c05da041ff1",
   "metadata": {},
   "outputs": [
    {
     "name": "stdout",
     "output_type": "stream",
     "text": [
      "2024-08-21T00:15:55.517067+0800 INFO Starting report generation using model: gpt-3.5-turbo.\n",
      "2024-08-21T00:16:09.912971+0800 DEBUG gpt-3.5-turbo response: ChatCompletion(id='chatcmpl-9yLoWZVXTov55p1JSBruQq3pLqjzp', choices=[Choice(finish_reason='stop', index=0, logprobs=None, message=ChatCompletionMessage(content='## 简报：langchain-ai/langchain 项目进展 (2024-08-17 至 2024-08-20)\\n\\n### 新增功能：\\n- 添加 beta 装饰器到遗漏的 GraphVectorStore 扩展 #25562\\n- 在标准测试中指定 tool_choice #25548\\n- 为 `SearxSearchResults` 工具添加 args_schema #25350\\n- 添加 embeddings 集成测试 #25508\\n- 升级 @root_validator 的使用以与 pydantic 2 一致化 #25457\\n\\n### 主要改进：\\n- 改进 `SingleFileFacebookMessengerChatLoader` 的 API 文档 #25536\\n- 更新 llama 测试所使用的模型 #25542\\n- 更新基础网址 #25524\\n- 修复了无法使用 document_variable_name 覆盖 create_stuff_documents_chain 中上下文的问题 #25531\\n- 修复 ChatOpenAI 在本地 LM Studio 服务器上无法运行的问题 #25545\\n\\n### 修复问题：\\n- 修复 UnionType 类型变量替换的问题 #25544\\n- 修复 \"DocumentLoader\" 对象缺少 nltk 包的问题 #25473\\n- 修复 ChatZhipuAI 的 ToolMessage 的问题 #25547\\n- 修复了 ChatOpenAI.with_structured_output 对 json_schema 的支持问题 #25123\\n- 修复了 AttributeError: \\'Collection\\' object has no attribute \\'model_fields\\' 的问题 #24163', role='assistant', function_call=None, tool_calls=None, refusal=None))], created=1724170560, model='gpt-3.5-turbo-0125', object='chat.completion', system_fingerprint=None, usage=CompletionUsage(completion_tokens=354, prompt_tokens=1151, total_tokens=1505))\n",
      "2024-08-21T00:16:09.914971+0800 INFO Generated report saved to daily_progress/langchain-ai_langchain/2024-08-17_to_2024-08-20_report.md\n"
     ]
    }
   ],
   "source": [
    "report_generator.generate_report_by_date_range(\n",
    "    markdown_file_path=\"daily_progress/langchain-ai_langchain/2024-08-17_to_2024-08-20.md\", days=3)"
   ]
  },
  {
   "cell_type": "markdown",
   "id": "baa6d7c4-56c2-42f7-afc6-0b166e634ced",
   "metadata": {},
   "source": [
    "## 调用 GPT-4-Turbo API 生成报告"
   ]
  },
  {
   "cell_type": "code",
   "execution_count": 46,
   "id": "49620292-834f-465d-8ba5-e3bbf0045ad0",
   "metadata": {},
   "outputs": [],
   "source": [
    "# 实例化 LLM，并使用指定的 GPT-4-Turbo 模型\n",
    "gpt_4 = LLM(model=\"gpt-4o\")"
   ]
  },
  {
   "cell_type": "code",
   "execution_count": 47,
   "id": "12429122-8bde-406f-9b9f-ec671871ab8c",
   "metadata": {},
   "outputs": [],
   "source": [
    "# 实例化 ReportGenerator, 并使用指定的 GPT-4-Turbo 模型\n",
    "rg_gpt_4 = ReportGenerator(gpt_4)"
   ]
  },
  {
   "cell_type": "code",
   "execution_count": 48,
   "id": "3aff72bc-9324-4553-9fb9-5948b8715cd8",
   "metadata": {},
   "outputs": [
    {
     "name": "stdout",
     "output_type": "stream",
     "text": [
      "2024-08-21T00:07:29.290823+0800 INFO Starting report generation using model: gpt-4o.\n",
      "2024-08-21T00:07:44.501548+0800 DEBUG gpt-4o response: ChatCompletion(id='chatcmpl-9yLgL4fXdUzXhylFYBU42fBVusJD6', choices=[Choice(finish_reason='stop', index=0, logprobs=None, message=ChatCompletionMessage(content='**langchain-ai/langchain 项目进展简报（2024-08-20）**\\n\\n### 新增功能\\n1. **新功能集成**\\n   - 在核心模块和社区模块中，新增了对GraphVectorStore扩展具有Beta装饰器的功能。\\n   - 添加了`ToolMessage`功能到ChatZhipuAI。\\n   - 在`langchain-box`包中新增了`DocumentLoader`。\\n\\n### 主要改进\\n1. **基础设施改进**\\n   - 移除了CI树中的huggingface依赖。\\n   - 更新了OpenAI和核心依赖版本分别到0.1.22和0.2.33。\\n   - 升级了@root_validator的使用，以支持pydantic 2，涉及模块包括core, anthropic, voyageai, ai21, pinecone。\\n\\n2. **文档和示例更新**\\n   - 增强了`SingleFileFacebookMessengerChatLoader`的API文档。\\n   - 更新了`QianfanLLMEndpoint`和Tongyi的输入文本文档。\\n   - 在文档中增加了安装nltk和beautifulsoup4的提示。\\n   - 修正了Databricks向量搜索示例笔记本的文档。\\n   - 在OpenAI集成笔记本中使用`.invoke`代替`__call__`。\\n   - 修正了代理弃用消息的文档。\\n   - 更新了文档中对`arxiv`页面的内容。\\n   - 重新格式化了oai嵌入文档字符串。\\n\\n3. **模型和测试的改进**\\n   - 在Together工具标准测试中，指定了工具的选择。\\n   - 更新了Llama测试所用的模型。\\n   - 增加了嵌入集成测试。\\n\\n### 修复问题\\n1. **问题修复**\\n   - 修复了UnionType类型变量替换的问题。\\n   - 修复了在创建stuff文档链时无法使用`document_variable_name`来覆盖上下文的问题。\\n   - 修复了OpenAI在Azure上的JSON模式问题。\\n   - 修正了MIME类型解析器的文档字符串。\\n\\n此次进展包含多个方面的改进和修复，为后续的开发和使用提供了更有效和可靠的支持。', role='assistant', function_call=None, tool_calls=None, refusal=None))], created=1724170053, model='gpt-4o-2024-05-13', object='chat.completion', system_fingerprint='fp_3aa7262c27', usage=CompletionUsage(completion_tokens=498, prompt_tokens=609, total_tokens=1107))\n",
      "2024-08-21T00:07:44.504548+0800 INFO Generated report saved to daily_progress/langchain-ai_langchain/2024-08-20_report.md\n"
     ]
    }
   ],
   "source": [
    "# 生成 LangChain 项目最近一日报告\n",
    "rg_gpt_4.generate_daily_report(\n",
    "    markdown_file_path=\"daily_progress/langchain-ai_langchain/2024-08-20.md\")"
   ]
  },
  {
   "cell_type": "code",
   "execution_count": 55,
   "id": "cd74cc04-ba3e-472d-9d7a-95180df1f7fb",
   "metadata": {},
   "outputs": [
    {
     "name": "stdout",
     "output_type": "stream",
     "text": [
      "2024-08-21T00:17:16.763639+0800 INFO Starting report generation using model: gpt-4o.\n",
      "2024-08-21T00:17:36.407135+0800 DEBUG gpt-4o response: ChatCompletion(id='chatcmpl-9yLpobbSQ6su93Cp4ONifidg4YHyG', choices=[Choice(finish_reason='stop', index=0, logprobs=None, message=ChatCompletionMessage(content='# Langchain 项目进展简报（2024-08-17 至 2024-08-20）\\n\\n## 新增功能\\n1. **工具与集成**\\n   - 添加了 `ToolMessage` 用于 ChatZhipuAI (#25547)。\\n   - 开发了 langchain-box 包，并新增了 `DocumentLoader` (#25465)。\\n\\n2. **模型与测试**\\n   - 为 llama 测试更新了模型 (#25542)。\\n   - 指定了标准测试中的 tool_choice (#25548)。\\n\\n## 主要改进\\n1. **文档与示例**\\n   - 改进了 `SingleFileFacebookMessengerChatLoader` 的API文档 (#25536)。\\n   - 更新归纳指南 (#25408)。\\n   - 修复了 Databricks 向量搜索演示笔记本 (#25504)。\\n   - 使用 `.invoke` 而不是 `__call__` 在 OpenAI 集成笔记本中 (#25494)。\\n   - 修复 Agent 废弃消息 (#25464)。\\n   - 修复 mimetype 解析器 docstring (#25463)。\\n   - 更新了 `arxiv` 页面 (#25450)。\\n\\n2. **依赖与工具**\\n   - 删除 CI 树中的 huggingface (#25559)。\\n   - 为 QianfanLLMEndpoint 和 Tongyi 修复了输入文本 (#25529)。\\n   - 在 `openai` 集成笔记本中添加了安装漂亮汤4的提示 (#25518)。\\n   - 在 `openai` 集成笔记本中添加了安装 nltk 的提示 (#25519)。\\n   \\n3. **版本发布**\\n   - 发布了 core 的 0.2.33 版本 (#25498)。\\n   - 发布了 openai 的 0.1.22 版本 (#25496)。\\n\\n4. **架构改进**\\n   - 升级了 Pydantic 2 的 `@root_validator` 用法，以保持一致性 (多项更新：#25457, #25455, #25454, #25453)。\\n\\n## 修复问题\\n1. **功能修复**\\n   - 修复了 UnionType 类型变量替换的问题 (#25544)。\\n   - 修复了 `document_variable_name` 无法覆盖上下文的问题 (#25531)。\\n   - 修复了 Azure 的 json 模式 (#25488)。\\n   - 修复了 ChatOpenAI 不能在本地 LM Studio 服务器上工作的问 (#25545)。\\n\\n2. **文档修复**\\n   - 修复了 Agent 废弃消息 (#25464)。\\n   - 修复了 Oracle AI Vector Search DB 连接错误 (#21587)。\\n   - 修复了 OracleDB 23ai 演示链接 (#21563)。\\n   - 修复了网站搜索功能不能工作的错误 (#21560)。\\n\\n3. **安全与兼容**\\n   - 修复了 CVE-2023-32785 部署问题 (#25512)。\\n\\n4. **整合与依赖**\\n   - 调整了根验证器以符合 Pydantic 2 的要求 (多个修复项：#25457, #25455, #25454, #25453)。\\n\\n总结，这些更新和修复涵盖了功能添加、文档改进、Bug修复以及依赖和工具的优化，进一步提升了 Langchain 的稳定性和可用性。', role='assistant', function_call=None, tool_calls=None, refusal=None))], created=1724170640, model='gpt-4o-2024-05-13', object='chat.completion', system_fingerprint='fp_3aa7262c27', usage=CompletionUsage(completion_tokens=729, prompt_tokens=1134, total_tokens=1863))\n",
      "2024-08-21T00:17:36.410136+0800 INFO Generated report saved to daily_progress/langchain-ai_langchain/2024-08-17_to_2024-08-20_report.md\n"
     ]
    }
   ],
   "source": [
    "rg_gpt_4.generate_report_by_date_range(\n",
    "    markdown_file_path=\"daily_progress/langchain-ai_langchain/2024-08-17_to_2024-08-20.md\", days=3)"
   ]
  },
  {
   "cell_type": "code",
   "execution_count": 49,
   "id": "7492030c-449b-4d57-9503-4a18fa669438",
   "metadata": {},
   "outputs": [],
   "source": [
    "moon = LLM(model=\"moonshot-v1-8k\",api_key=os.getenv(\"MOONSHOT_API_KEY\"), base_url=os.getenv(\"MOONSHOT_API_BASE\"))"
   ]
  },
  {
   "cell_type": "code",
   "execution_count": 50,
   "id": "30ed5a6e-14e1-4360-b9c0-b0e7777bfc36",
   "metadata": {},
   "outputs": [],
   "source": [
    "rg_moon = ReportGenerator(moon)"
   ]
  },
  {
   "cell_type": "code",
   "execution_count": 51,
   "id": "1cd2cfd8-1945-4870-b2db-f53f7e408144",
   "metadata": {},
   "outputs": [
    {
     "name": "stdout",
     "output_type": "stream",
     "text": [
      "2024-08-21T00:10:04.893459+0800 INFO Starting report generation using model: moonshot-v1-8k.\n",
      "2024-08-21T00:10:19.038200+0800 DEBUG moonshot-v1-8k response: ChatCompletion(id='chatcmpl-66c4bfdcd669133bf8443621', choices=[Choice(finish_reason='stop', index=0, logprobs=None, message=ChatCompletionMessage(content='### 项目简报：langchain-ai/langchain (2024-08-20)\\n\\n#### 新增功能\\n- 引入了beta装饰器，用于扩展GraphVectorStore（#25562）。\\n- 添加了ToolMessage，用于ChatZhipuAI（#25547）。\\n- 增加了embeddings集成测试（#25508）。\\n- 新增langchain box包和DocumentLoader（#25465, #25458）。\\n\\n#### 主要改进\\n- 改进了`SingleFileFacebookMessengerChatLoader`的API文档（#25536）。\\n- 更新了base URL（#25524）。\\n- 增加了安装nltk的提示（#25519）。\\n- 增加了安装beautifulsoup4的提示（#25518）。\\n- 更新了Databricks Vector Search演示笔记本（#25504）。\\n- 更新了openai核心依赖（#25502, #25496）。\\n- 使用.invoke代替__call__在openai集成笔记本中（#25494）。\\n- 修复了Azure的json模式问题（#25488）。\\n- 更新了文档，包括Agent弃用消息和mimetype解析器文档字符串（#25464, #25463）。\\n- 升级了@root_validator的使用，以与pydantic 2保持一致（#25457, #25455, #25454, #25453）。\\n\\n#### 修复问题\\n- 从CI树中移除了huggingface（#25559）。\\n- 修复了测试chat prompt序列化/反序列化的问题（#25557）。\\n- 修复了UnionType类型变量替换的问题（#25544）。\\n- 修复了使用document_variable_name覆盖上下文的问题（#25531）。\\n- 修复了QianfanLLMEndpoint和Tongyi输入文本的问题（#25529）。\\n- 修复了arxiv页面更新（#25450）。\\n- 修复了oai embeddings文档字符串的格式问题（#25448）。\\n\\n请注意，这份简报仅包含2024年8月20日当天合并的Pull Requests和关闭的Issues。', role='assistant', function_call=None, tool_calls=None))], created=1724170204, model='moonshot-v1-8k', object='chat.completion', system_fingerprint=None, usage=CompletionUsage(completion_tokens=461, prompt_tokens=614, total_tokens=1075))\n",
      "2024-08-21T00:10:19.041200+0800 INFO Generated report saved to daily_progress/langchain-ai_langchain/2024-08-20_report.md\n"
     ]
    }
   ],
   "source": [
    "rg_moon.generate_daily_report(\n",
    "    markdown_file_path=\"daily_progress/langchain-ai_langchain/2024-08-20.md\")"
   ]
  },
  {
   "cell_type": "code",
   "execution_count": 56,
   "id": "22f90f57-feb6-4bdd-a431-405ab7a6054b",
   "metadata": {},
   "outputs": [
    {
     "name": "stdout",
     "output_type": "stream",
     "text": [
      "2024-08-21T00:19:11.585569+0800 INFO Starting report generation using model: moonshot-v1-8k.\n",
      "2024-08-21T00:19:32.375073+0800 DEBUG moonshot-v1-8k response: ChatCompletion(id='chatcmpl-66c4c1ff48607124c76e9acb', choices=[Choice(finish_reason='stop', index=0, logprobs=None, message=ChatCompletionMessage(content='## 项目简报：langchain-ai/langchain (2024-08-17 至 2024-08-20)\\n\\n### 新增功能\\n- 为GraphVectorStore扩展添加了beta装饰器，以支持更多功能（#25562）。\\n- 引入了ToolMessage，用于ChatZhipuAI（#25547）。\\n- 添加了对`SingleFileFacebookMessengerChatLoader`的API文档改进（#25536）。\\n- 新增了embeddings集成测试（#25508）。\\n\\n### 主要改进\\n- 从CI树中移除了huggingface（#25559）。\\n- 测试了聊天提示的序列化和反序列化（#25557）。\\n- 在标准测试中指定了tool_choice（#25548）。\\n- 更新了用于llama测试的模型（#25542）。\\n- 更新了基础URL（#25524）。\\n- 添加了安装nltk的提示（#25519）。\\n- 添加了安装beautifulsoup4的提示（#25518）。\\n- 更新了core依赖（#25502）。\\n- 发布了0.2.33版本（#25498）。\\n- 发布了0.1.22版本（#25496）。\\n- 改进了openai集成笔记本中的调用方式（#25494）。\\n- 修复了Azure的json模式问题（#25488）。\\n- 添加了langchain box包和DocumentLoader（#25465, #25458）。\\n- 升级了多个库以与pydantic 2保持一致性（#25457, #25455, #25454, #25453）。\\n\\n### 修复问题\\n- 修复了ChatOpenAI在本地LM Studio服务器上无法工作的问题（#25545）。\\n- 修复了UnionType类型变量替换的问题（#25544）。\\n- 修复了无法使用document_variable_name覆盖上下文的问题（#25531）。\\n- 修正了QianfanLLMEndpoint和Tongyi输入文本的问题（#25529）。\\n- 修复了Agent弃用消息（#25464）。\\n- 修复了mimetype解析器文档字符串（#25463）。\\n- 修复了Open AI Whisper `client.audio.transcriptions`返回Text Object导致的错误（#25271）。\\n- 修复了聊天历史摘要不包含在聊天记忆中的问题（#21604）。\\n- 修复了Oracle AI Vector Search DB连接错误（#21587）。\\n- 修复了网站搜索功能无法工作的问题（#21560）。\\n\\n### 文档更新\\n- 更新了总结指南（#25408）。\\n- 修正了Databricks Vector Search演示笔记本（#25504）。\\n- 使用.invoke代替__call__在openai集成笔记本中（#25494）。\\n- 更新了arxiv页面（#25450）。\\n- 格式化了oai embeddings文档字符串（#25448）。\\n\\n请注意，这份简报仅包含部分关键进展，具体细节和更多信息请参考项目的GitHub仓库。', role='assistant', function_call=None, tool_calls=None))], created=1724170751, model='moonshot-v1-8k', object='chat.completion', system_fingerprint=None, usage=CompletionUsage(completion_tokens=676, prompt_tokens=1159, total_tokens=1835))\n",
      "2024-08-21T00:19:32.378073+0800 INFO Generated report saved to daily_progress/langchain-ai_langchain/2024-08-17_to_2024-08-20_report.md\n"
     ]
    }
   ],
   "source": [
    "rg_moon.generate_report_by_date_range(\n",
    "    markdown_file_path=\"daily_progress/langchain-ai_langchain/2024-08-17_to_2024-08-20.md\", days=3)"
   ]
  },
  {
   "cell_type": "markdown",
   "id": "cae5aea5-7df9-4c0d-97a8-1d80cef0cf0f",
   "metadata": {},
   "source": [
    "### Homework: 与ChatGPT深度对话，尝试使用 System role 提升报告质量和稳定性"
   ]
  },
  {
   "cell_type": "code",
   "execution_count": null,
   "id": "fbb42712-590f-45fc-b156-e902a3745e78",
   "metadata": {},
   "outputs": [],
   "source": []
  }
 ],
 "metadata": {
  "kernelspec": {
   "display_name": "Python 3 (ipykernel)",
   "language": "python",
   "name": "python3"
  },
  "language_info": {
   "codemirror_mode": {
    "name": "ipython",
    "version": 3
   },
   "file_extension": ".py",
   "mimetype": "text/x-python",
   "name": "python",
   "nbconvert_exporter": "python",
   "pygments_lexer": "ipython3",
   "version": "3.10.14"
  }
 },
 "nbformat": 4,
 "nbformat_minor": 5
}
